{
 "cells": [
  {
   "cell_type": "markdown",
   "metadata": {},
   "source": [
    "# Self-Driving Car Engineer Nanodegree\n",
    "\n",
    "## Deep Learning\n",
    "\n",
    "## Project: Build a Traffic Sign Recognition Classifier\n",
    "\n",
    "In this notebook, a template is provided for you to implement your functionality in stages which is required to successfully complete this project. If additional code is required that cannot be included in the notebook, be sure that the Python code is successfully imported and included in your submission, if necessary. Sections that begin with **'Implementation'** in the header indicate where you should begin your implementation for your project. Note that some sections of implementation are optional, and will be marked with **'Optional'** in the header.\n",
    "\n",
    "In addition to implementing code, there will be questions that you must answer which relate to the project and your implementation. Each section where you will answer a question is preceded by a **'Question'** header. Carefully read each question and provide thorough answers in the following text boxes that begin with **'Answer:'**. Your project submission will be evaluated based on your answers to each of the questions and the implementation you provide.\n",
    "\n",
    ">**Note:** Code and Markdown cells can be executed using the **Shift + Enter** keyboard shortcut. In addition, Markdown cells can be edited by typically double-clicking the cell to enter edit mode."
   ]
  },
  {
   "cell_type": "markdown",
   "metadata": {},
   "source": [
    "---\n",
    "## Step 0: Load The Data"
   ]
  },
  {
   "cell_type": "code",
   "execution_count": null,
   "metadata": {
    "collapsed": false
   },
   "outputs": [],
   "source": [
    "# Load pickled data\n",
    "import pickle\n",
    "\n",
    "# TODO: Fill this in based on where you saved the training and testing data\n",
    "\n",
    "training_file = \"data/train.p\"\n",
    "testing_file = \"data/test.p\"\n",
    "\n",
    "with open(training_file, mode='rb') as f:\n",
    "    train = pickle.load(f)\n",
    "with open(testing_file, mode='rb') as f:\n",
    "    test = pickle.load(f)\n",
    "    \n",
    "X_train, y_train = train['features'], train['labels']\n",
    "X_test, y_test = test['features'], test['labels']"
   ]
  },
  {
   "cell_type": "markdown",
   "metadata": {},
   "source": [
    "---\n",
    "\n",
    "## Step 1: Dataset Summary & Exploration\n",
    "\n",
    "The pickled data is a dictionary with 4 key/value pairs:\n",
    "\n",
    "- `'features'` is a 4D array containing raw pixel data of the traffic sign images, (num examples, width, height, channels).\n",
    "- `'labels'` is a 2D array containing the label/class id of the traffic sign. The file `signnames.csv` contains id -> name mappings for each id.\n",
    "- `'sizes'` is a list containing tuples, (width, height) representing the the original width and height the image.\n",
    "- `'coords'` is a list containing tuples, (x1, y1, x2, y2) representing coordinates of a bounding box around the sign in the image. **THESE COORDINATES ASSUME THE ORIGINAL IMAGE. THE PICKLED DATA CONTAINS RESIZED VERSIONS (32 by 32) OF THESE IMAGES**\n",
    "\n",
    "Complete the basic data summary below."
   ]
  },
  {
   "cell_type": "code",
   "execution_count": null,
   "metadata": {
    "collapsed": false
   },
   "outputs": [],
   "source": [
    "### Replace each question mark with the appropriate value.\n",
    "import numpy as np\n",
    "\n",
    "# TODO: Number of training examples\n",
    "n_train = y_train.shape[0]\n",
    "\n",
    "# TODO: Number of testing examples.\n",
    "n_test = y_test.shape[0]\n",
    "\n",
    "# TODO: What's the shape of an traffic sign image?\n",
    "image_shape = X_train.shape[1:]\n",
    "\n",
    "# TODO: How many unique classes/labels there are in the dataset.\n",
    "n_classes = np.unique(y_train).shape[0]\n",
    "\n",
    "print(\"Number of training examples =\", n_train)\n",
    "print(\"Number of testing examples =\", n_test)\n",
    "print(\"Image data shape =\", image_shape)\n",
    "print(\"Number of classes =\", n_classes)"
   ]
  },
  {
   "cell_type": "markdown",
   "metadata": {},
   "source": [
    "Visualize the German Traffic Signs Dataset using the pickled file(s). This is open ended, suggestions include: plotting traffic sign images, plotting the count of each sign, etc.\n",
    "\n",
    "The [Matplotlib](http://matplotlib.org/) [examples](http://matplotlib.org/examples/index.html) and [gallery](http://matplotlib.org/gallery.html) pages are a great resource for doing visualizations in Python.\n",
    "\n",
    "**NOTE:** It's recommended you start with something simple first. If you wish to do more, come back to it after you've completed the rest of the sections."
   ]
  },
  {
   "cell_type": "code",
   "execution_count": null,
   "metadata": {
    "collapsed": true
   },
   "outputs": [],
   "source": [
    "### Data exploration visualization goes here.\n",
    "### Feel free to use as many code cells as needed.\n",
    "import cv2\n",
    "import matplotlib.pyplot as plt\n",
    "import matplotlib.gridspec as gridspec\n",
    "import matplotlib\n",
    "matplotlib.style.use('ggplot')\n",
    "# Visualizations will be shown in the notebook.\n",
    "%matplotlib inline\n",
    "import pandas as pd\n",
    "from math import ceil\n",
    "import random"
   ]
  },
  {
   "cell_type": "code",
   "execution_count": null,
   "metadata": {
    "collapsed": false
   },
   "outputs": [],
   "source": [
    "# Sample images\n",
    "def show_images_in_grid(*img_keys, cols=16, fig_width=12.0, X_data=None, y_data=None):\n",
    "    X_data = X_data if X_data is not None else X_train\n",
    "    y_data = y_data if y_data is not None else y_train\n",
    "    \n",
    "    img_count = len(img_keys)\n",
    "    rows = ceil(img_count / cols)\n",
    "    fig_height = (fig_width * rows / cols) + 0.6\n",
    "    \n",
    "    grid = gridspec.GridSpec(rows, cols, wspace=0.0, hspace=0.2)\n",
    "    fig = plt.figure(figsize=(fig_width, fig_height))\n",
    "    for i, m in enumerate(img_keys):\n",
    "        ax = plt.Subplot(fig, grid[i])\n",
    "        img = X_data[m]\n",
    "        if img.shape[-1] > 1:\n",
    "            ax.imshow(X_data[m], interpolation='bicubic')\n",
    "        else:\n",
    "            ax.imshow(X_data[m,:,:,0], cmap='gray', interpolation='bicubic')\n",
    "        ax.set_xticks([])\n",
    "        ax.set_yticks([])\n",
    "        ax.set_title(\"Class: {}\".format(y_data[m]), size=6)\n",
    "        fig.add_subplot(ax)\n",
    "        \n",
    "    plt.show()"
   ]
  },
  {
   "cell_type": "code",
   "execution_count": null,
   "metadata": {
    "collapsed": false
   },
   "outputs": [],
   "source": [
    "print(\"Sample images:\")\n",
    "sample_idx = random.sample(range(n_train), 48)\n",
    "show_images_in_grid(*sample_idx)"
   ]
  },
  {
   "cell_type": "code",
   "execution_count": null,
   "metadata": {
    "collapsed": false
   },
   "outputs": [],
   "source": [
    "# Class frequency distribution\n",
    "def show_distributions(labels, set_name, title=\"Class Frequency Distribution\"):\n",
    "    data = {}\n",
    "    for name, y in zip(set_name, labels):\n",
    "        idx, freqs = np.unique(y, return_counts=True)\n",
    "        series = pd.Series(freqs, index=idx)\n",
    "        data[name] = series\n",
    "      \n",
    "    df = pd.DataFrame(data)\n",
    "    df.index.name = \"Classes\"\n",
    "    ag = df.plot.bar(figsize=(15, 5), title=title)\n",
    "    ag.set_ylabel(\"Count\")\n",
    "    plt.show()\n",
    "    \n",
    "show_distributions((y_train, y_test), ('Train', 'Test'))"
   ]
  },
  {
   "cell_type": "markdown",
   "metadata": {},
   "source": [
    "----\n",
    "\n",
    "## Step 2: Design and Test a Model Architecture\n",
    "\n",
    "Design and implement a deep learning model that learns to recognize traffic signs. Train and test your model on the [German Traffic Sign Dataset](http://benchmark.ini.rub.de/?section=gtsrb&subsection=dataset).\n",
    "\n",
    "There are various aspects to consider when thinking about this problem:\n",
    "\n",
    "- Neural network architecture\n",
    "- Play around preprocessing techniques (normalization, rgb to grayscale, etc)\n",
    "- Number of examples per label (some have more than others).\n",
    "- Generate fake data.\n",
    "\n",
    "Here is an example of a [published baseline model on this problem](http://yann.lecun.com/exdb/publis/pdf/sermanet-ijcnn-11.pdf). It's not required to be familiar with the approach used in the paper but, it's good practice to try to read papers like these.\n",
    "\n",
    "**NOTE:** The LeNet-5 implementation shown in the [classroom](https://classroom.udacity.com/nanodegrees/nd013/parts/fbf77062-5703-404e-b60c-95b78b2f3f9e/modules/6df7ae49-c61c-4bb2-a23e-6527e69209ec/lessons/601ae704-1035-4287-8b11-e2c2716217ad/concepts/d4aca031-508f-4e0b-b493-e7b706120f81) at the end of the CNN lesson is a solid starting point. You'll have to change the number of classes and possibly the preprocessing, but aside from that it's plug and play!"
   ]
  },
  {
   "cell_type": "markdown",
   "metadata": {},
   "source": [
    "### Implementation\n",
    "\n",
    "Use the code cell (or multiple code cells, if necessary) to implement the first step of your project. Once you have completed your implementation and are satisfied with the results, be sure to thoroughly answer the questions that follow."
   ]
  },
  {
   "cell_type": "code",
   "execution_count": null,
   "metadata": {
    "collapsed": false
   },
   "outputs": [],
   "source": [
    "### Preprocess the data here.\n",
    "### Feel free to use as many code cells as needed."
   ]
  },
  {
   "cell_type": "code",
   "execution_count": null,
   "metadata": {
    "collapsed": false
   },
   "outputs": [],
   "source": [
    "def preprocess_image(img):\n",
    "    img = cv2.cvtColor(img, cv2.COLOR_RGB2YUV)[:,:,0]\n",
    "    img = np.asarray(img, dtype=np.float32).reshape(img.shape + (1,))\n",
    "    return (img - 128.) / 128.\n",
    "\n",
    "if X_train.shape[-1] > 1:\n",
    "    X_train = np.asarray([preprocess_image(m) for m in X_train], dtype=np.float32)\n",
    "    X_test = np.asarray([preprocess_image(m) for m in X_test], dtype=np.float32)\n",
    "    \n",
    "print(\"X_train: shape: {}, min:{}, max: {}\".format(X_train.shape, X_train.min(), X_train.max()))\n",
    "print(\"X_test: shape: {}, min:{}, max: {}\".format(X_test.shape, X_test.min(), X_test.max()))\n",
    "\n",
    "print(\"\\nSample preprocessed images:\")\n",
    "show_images_in_grid(*sample_idx)"
   ]
  },
  {
   "cell_type": "markdown",
   "metadata": {},
   "source": [
    "### Question 1 \n",
    "\n",
    "_Describe how you preprocessed the data. Why did you choose that technique?_"
   ]
  },
  {
   "cell_type": "markdown",
   "metadata": {},
   "source": [
    "**Answer:**\n",
    "\n",
    "Traffic signs are generally designed to be legible. The signs appear to still be readable even without colors. The images are converted to gray scale by first converting the color space from RGB to YUV and keep the Y channel only. This reduces the feature size to 1/3 of the original size while remaining to have meaningful images.\n",
    "\n",
    "The values are shifted to zero center and scaled in the range of -1 to 1 which will help in the learning process."
   ]
  },
  {
   "cell_type": "code",
   "execution_count": null,
   "metadata": {
    "collapsed": false
   },
   "outputs": [],
   "source": [
    "### Generate data additional data (OPTIONAL!)\n",
    "### and split the data into training/validation/testing sets here.\n",
    "### Feel free to use as many code cells as needed.\n",
    "\n",
    "def stratified_train_val_split(labels, train=0.8, seed=None):\n",
    "    \"\"\"Stratify split data into training-validation sets\"\"\"\n",
    "\n",
    "    saved_state = np.random.get_state()\n",
    "    np.random.seed(seed)\n",
    "\n",
    "    y = np.asarray(labels)\n",
    "    train_idx = np.zeros(y.shape[0], dtype=np.bool)\n",
    "    val_idx = np.zeros(y.shape[0], dtype=np.bool)\n",
    "    classes = np.unique(y)\n",
    "    for cls in classes:\n",
    "        idx = np.nonzero(y == cls)[0]\n",
    "        np.random.shuffle(idx)\n",
    "        n = int(train * idx.shape[0])\n",
    "\n",
    "        train_idx[idx[:n]] = True\n",
    "        val_idx[idx[n:]] = True\n",
    "    \n",
    "    t_idx = np.nonzero(train_idx)[0]\n",
    "    np.random.shuffle(t_idx)\n",
    "    v_idx = np.nonzero(val_idx)[0]\n",
    "    np.random.shuffle(v_idx)\n",
    "    \n",
    "    np.random.set_state(saved_state)\n",
    "    return t_idx, v_idx\n",
    "\n",
    "def split_data(X, y, train=0.7, seed=None):\n",
    "    t_idx, v_idx = stratified_train_val_split(y, train=train, seed=seed)\n",
    "    return X[t_idx], y[t_idx], X[v_idx], y[v_idx]\n",
    "\n",
    "\n",
    "# Split training dataset to 70-30 training-validation set\n",
    "if X_train.shape[0] >= n_train:\n",
    "    X_train, y_train, X_val, y_val = split_data(X_train, y_train, train=0.8)\n",
    "    \n",
    "print(\"Number of training samples =\", y_train.shape[0])\n",
    "print(\"Number of validation samples =\", y_val.shape[0])\n",
    "print(\"Number of testing samples =\", y_test.shape[0])\n",
    "show_distributions((y_train, y_val, y_test), ('Train', 'Validation', 'Test'))"
   ]
  },
  {
   "cell_type": "code",
   "execution_count": null,
   "metadata": {
    "collapsed": false,
    "scrolled": false
   },
   "outputs": [],
   "source": [
    "def random_transform(img, rotate=10.0, translate=5, perpective=5):\n",
    "    orig_rows, orig_cols = img.shape[:2]\n",
    "    \n",
    "    # pad with zeros to avoid clipping\n",
    "    border = img.shape[0] // 2\n",
    "    img = cv2.copyMakeBorder(img, border, border, border, border, cv2.BORDER_CONSTANT, value=-1.0) \n",
    "    \n",
    "    \n",
    "    # rotate\n",
    "    rows, cols = img.shape\n",
    "    M = cv2.getRotationMatrix2D((cols / 2, rows / 2), \n",
    "                                np.random.uniform(low=-rotate, high=rotate),\n",
    "                                1)\n",
    "    img = cv2.warpAffine(img, M, (cols, rows))\n",
    "    \n",
    "    \n",
    "    # translate\n",
    "    dx, dy = np.random.uniform(low=-translate, high=translate, size=2)\n",
    "    M = np.float32([[1, 0, dx],\n",
    "                    [0, 1, dy]])\n",
    "    img = cv2.warpAffine(img, M, (cols, rows))\n",
    "    \n",
    "    \n",
    "    # perspective\n",
    "    zero = border\n",
    "    x00, y00 = zero            , zero\n",
    "    x10, y10 = zero + orig_cols, zero\n",
    "    x01, y01 = zero            , zero + orig_rows\n",
    "    x11, y11 = zero + orig_cols, zero + orig_rows\n",
    "    \n",
    "    pts1 = np.float32([[x00, y00], [x10, y10], \n",
    "                       [x01, y01], [x11, y11]])\n",
    "    \n",
    "    dx1, dx2, dy1, dy2 = np.random.uniform(low=-perpective, high=perpective, size=4)\n",
    "    \n",
    "    if np.random.uniform() >= 0.5:\n",
    "        # vertical perspective\n",
    "        pts2 = np.float32([[x00 + dx1, y00 + dy1], [x10 - dx1, y10 + dy1], \n",
    "                           [x01 + dx2, y01 + dy2], [x11 - dx2, y11 + dy2]])\n",
    "    else:\n",
    "        # horizontal perspective\n",
    "        pts2 = np.float32([[x00 + dx1, y00 + dy1], [x10 + dx2, y10 + dy2], \n",
    "                           [x01 + dx1, y01 - dy1], [x11 + dx2, y11 - dy2]])\n",
    "    \n",
    "    M = cv2.getPerspectiveTransform(pts1, pts2)\n",
    "    img = cv2.warpPerspective(img, M, (cols, rows))\n",
    "    \n",
    "    return img[border:border + orig_rows, border:border + orig_cols]\n",
    "\n",
    "def synthesize_data(X, target=None):\n",
    "    count, rows, cols = X.shape[:3]\n",
    "    if target is None:\n",
    "        if count < 200: target = count * 3\n",
    "        elif count < 400: target = count * 2\n",
    "        elif count < 800: target = count * 1\n",
    "        else: return X\n",
    "    else:\n",
    "        target -= count\n",
    "    if target <= 0: return X\n",
    "    \n",
    "    trans = lambda i: random_transform(X[i % count]).reshape((rows, cols, 1))\n",
    "    synth = np.asarray([trans(i) for i in range(target)])\n",
    "    return np.concatenate((X, synth), axis=0)\n",
    "\n",
    "def generate_synthetic_data(X, y, target=None):\n",
    "    classes = np.unique(y)\n",
    "    X_temp, y_temp = [], []\n",
    "    \n",
    "    for cls in classes:\n",
    "        idx = np.nonzero(y == cls)[0]\n",
    "        imgs = X[idx]\n",
    "        synths = synthesize_data(imgs, target=target)\n",
    "        X_temp.extend(synths)\n",
    "        y_temp.extend([cls] * synths.shape[0])\n",
    "    \n",
    "    return np.asarray(X_temp), np.asarray(y_temp)"
   ]
  },
  {
   "cell_type": "code",
   "execution_count": null,
   "metadata": {
    "collapsed": false
   },
   "outputs": [],
   "source": [
    "def show_sample_synthesized_images(img, label):\n",
    "    imgs = np.array([img])\n",
    "    synths = synthesize_data(imgs, target=48)\n",
    "    sample_idx = range(synths.shape[0])\n",
    "    \n",
    "    print(\"Sample synthesized images (upper leftmost image is the original reference image):\")\n",
    "    show_images_in_grid(*sample_idx, X_data=synths, y_data=[label] * synths.shape[0])\n",
    "\n",
    "show_sample_synthesized_images(X_val[11], y_val[11])"
   ]
  },
  {
   "cell_type": "code",
   "execution_count": null,
   "metadata": {
    "collapsed": false
   },
   "outputs": [],
   "source": [
    "# Generate synthetic data\n",
    "X_train, y_train = generate_synthetic_data(X_train, y_train)\n",
    "\n",
    "print(\"Number of training samples =\", y_train.shape[0])\n",
    "print(\"Number of validation samples =\", y_val.shape[0])\n",
    "print(\"Number of testing samples =\", y_test.shape[0])\n",
    "show_distributions((y_train, y_val, y_test), ('Train', 'Validation', 'Test'))"
   ]
  },
  {
   "cell_type": "markdown",
   "metadata": {},
   "source": [
    "### Question 2\n",
    "\n",
    "_Describe how you set up the training, validation and testing data for your model. **Optional**: If you generated additional data, how did you generate the data? Why did you generate the data? What are the differences in the new dataset (with generated data) from the original dataset?_"
   ]
  },
  {
   "cell_type": "markdown",
   "metadata": {},
   "source": [
    "**Answer:**"
   ]
  },
  {
   "cell_type": "code",
   "execution_count": null,
   "metadata": {
    "collapsed": false
   },
   "outputs": [],
   "source": [
    "### Define your architecture here.\n",
    "### Feel free to use as many code cells as needed.\n",
    "\n",
    "import os\n",
    "import tensorflow as tf"
   ]
  },
  {
   "cell_type": "code",
   "execution_count": null,
   "metadata": {
    "collapsed": true
   },
   "outputs": [],
   "source": [
    "EPOCHS = 10\n",
    "\n",
    "TRAIN_BATCH_SIZE = 128\n",
    "VAL_BATCH_SIZE = 128\n",
    "TEST_BATCH_SIZE = 128\n",
    "\n",
    "IMAGE_HEIGHT = 32\n",
    "IMAGE_WIDTH = 32\n",
    "CHANNELS = 1\n",
    "\n",
    "LABELS_COUNT = n_classes\n",
    "\n",
    "LEARNING_RATE = 1e-3\n",
    "DECAY_STEP = X_train.shape[0] // TRAIN_BATCH_SIZE\n",
    "LEARNING_RATE_DECAY = 0.98\n",
    "\n",
    "CHECK_POINT_DIR = \"models\"\n",
    "if not os.path.isdir(CHECK_POINT_DIR): os.makedirs(CHECK_POINT_DIR)\n",
    "CHECK_POINT_FILE = os.path.join(CHECK_POINT_DIR, \"model.ckpt\")\n",
    "CHECK_POINTS_TO_KEEP = 5\n",
    "\n",
    "LOG_AT_EVERY = 100"
   ]
  },
  {
   "cell_type": "code",
   "execution_count": null,
   "metadata": {
    "collapsed": true
   },
   "outputs": [],
   "source": [
    "##### def make_model(X):    \n",
    "#     # Stage 1\n",
    "#     # Input = 32x32x1. Output = 16x16x8\n",
    "#     conv1 = make_conv(X, kernel=5, depth=8)\n",
    "#     conv1 = max_pool(conv1, kernel=2, stride=2)\n",
    "    \n",
    "#     # Stage 2\n",
    "#     # Input = 16x16x8. Output = 8x8x16\n",
    "#     conv2 = make_conv(conv1, kernel=3, depth=16)\n",
    "#     conv2 = max_pool(conv2, kernel=2, stride=2)\n",
    "    \n",
    "#     # Classifier\n",
    "#     conv1_flat = tf.contrib.layers.flatten(conv1)\n",
    "#     conv2_flat = tf.contrib.layers.flatten(conv2)\n",
    "    \n",
    "#     flat = tf.concat(1, [conv1_flat, conv2_flat])\n",
    "#     logits = make_fc(flat, LABELS_COUNT)\n",
    "    \n",
    "#     return logits\n",
    "\n",
    "def make_model(X, keep_prob):    \n",
    "    # Stage 1\n",
    "    # Input = 32x32x1\n",
    "    conv1 = make_conv(X, kernel=5, depth=8, pad='VALID')     # 28x28x8\n",
    "    conv1 = max_pool(conv1, kernel=2, stride=2, pad='VALID') # 14x14x8\n",
    "    \n",
    "    # Stage 2\n",
    "    # Input = 16x16x32. Output = 8x8x64\n",
    "    conv2 = make_conv(conv1, kernel=5, depth=16, pad='VALID') # 10x10x16\n",
    "    conv2 = max_pool(conv2, kernel=2, stride=2, pad='VALID')  # 5x5x16\n",
    "    \n",
    "    # Dense Layer\n",
    "    conv1_2 = max_pool(conv1, kernel=2, stride=2)   # 7x7x8\n",
    "    conv1_flat = tf.contrib.layers.flatten(conv1_2) # 7*7*3 = 392\n",
    "    conv2_flat = tf.contrib.layers.flatten(conv2)   # 5*5*16 = 400\n",
    "    \n",
    "    flat = tf.concat(1, [conv1_flat, conv2_flat])   # 392 + 400 = 792\n",
    "    \n",
    "    # Hidden Layers\n",
    "    fc1 = make_fc(conv2_flat, 512)\n",
    "    fc1 = tf.nn.dropout(fc1, keep_prob)\n",
    "    \n",
    "    fc2 = make_fc(fc1, 256)\n",
    "    fc2 = tf.nn.dropout(fc2, keep_prob)\n",
    "    \n",
    "    # Classifier\n",
    "    logits = make_fc(fc2, LABELS_COUNT, activatation=False)\n",
    "\n",
    "    return logits\n",
    "\n",
    "# def test_model():\n",
    "#     tf_X = tf.placeholder(tf.float32, \n",
    "#                                 shape=(None,\n",
    "#                                        IMAGE_HEIGHT, IMAGE_WIDTH,\n",
    "#                                        CHANNELS))\n",
    "#     make_model(tf_X)\n",
    "# test_model()\n",
    "\n",
    "# def make_model(X):\n",
    "#     # Layer 1: Convolution. Input = 32x32x1\n",
    "#     conv1 = make_conv(X, kernel=5, depth=6, pad='VALID')     # 28x28x6\n",
    "#     conv1 = max_pool(conv1, kernel=2, stride=2, pad='VALID') # 14x14x6\n",
    "\n",
    "#     # Layer 2:\n",
    "#     conv2 = make_conv(conv1, kernel=5, depth=16, pad='VALID')  # 10x10x16\n",
    "#     conv2 = max_pool(conv2, kernel=2, stride=2, pad='VALID')   # 5x5x16\n",
    " \n",
    "#     # Flatten:\n",
    "#     fc0 = tf.contrib.layers.flatten(conv2)   # 5*5*16 = 400\n",
    "    \n",
    "#     # Layer 3: Fully Conected\n",
    "#     fc1 = make_fc(fc0, 120)    # 120    \n",
    "\n",
    "#     # Layer 4: Fully Connected\n",
    "#     fc2 = make_fc(fc1, 84)    # 84 \n",
    "    \n",
    "#     # Logits\n",
    "#     logits = make_fc(fc2, LABELS_COUNT, activatation=False)\n",
    "    \n",
    "#     return logits\n",
    "\n",
    "def make_conv(in_data, kernel, depth, \n",
    "              stride=1, pad='SAME', std=0.1):\n",
    "    \n",
    "    in_depth = in_data.get_shape().as_list()[3]\n",
    "    \n",
    "    W = tf.Variable(tf.truncated_normal((kernel, kernel, in_depth, depth), \n",
    "                                         stddev=std))\n",
    "    b = tf.Variable(tf.zeros(depth))\n",
    "    strides = [1, stride, stride, 1]\n",
    "    \n",
    "    conv = tf.nn.conv2d(in_data, W, strides, padding=pad) + b\n",
    "    \n",
    "    return tf.nn.relu(conv)\n",
    "\n",
    "def max_pool(in_data, kernel=2, stride=2, pad='SAME'):\n",
    "    return tf.nn.max_pool(in_data,\n",
    "                          ksize=[1, kernel, kernel, 1],\n",
    "                          strides=[1, stride, stride, 1],\n",
    "                          padding=pad)\n",
    "\n",
    "# Make fully connected\n",
    "def make_fc(in_data, out_c, std=0.1, activatation=True):\n",
    "    # in_data expects a 2 dimensional tensor with shape [N, D]\n",
    "    features = in_data.get_shape().as_list()[1]\n",
    "    \n",
    "    W = tf.Variable(tf.truncated_normal((features, out_c), stddev=std))\n",
    "    b = tf.Variable(tf.zeros(out_c))\n",
    "    \n",
    "    fc = tf.matmul(in_data, W) + b\n",
    "\n",
    "    return fc if not activatation else tf.nn.relu(fc)\n",
    "    \n",
    "def make_loss(logits, target):\n",
    "    cross_en = tf.nn.sparse_softmax_cross_entropy_with_logits(logits, target)\n",
    "    return tf.reduce_mean(cross_en)\n",
    "\n",
    "def optimize(loss):\n",
    "    \"\"\"Returns tensor for the optimizer for training\"\"\"\n",
    "    \n",
    "    global_step = tf.Variable(0, trainable=False)\n",
    "    # Learning rate\n",
    "    learning_rate = tf.train.exponential_decay(\n",
    "        LEARNING_RATE, global_step, \n",
    "        DECAY_STEP,\n",
    "        LEARNING_RATE_DECAY)\n",
    "    \n",
    "    # Optimizer\n",
    "    optimizer = tf.train.AdamOptimizer(learning_rate)\n",
    "    return optimizer.minimize(loss, global_step=global_step)"
   ]
  },
  {
   "cell_type": "code",
   "execution_count": null,
   "metadata": {
    "collapsed": false
   },
   "outputs": [],
   "source": [
    "graph = tf.Graph()\n",
    "with graph.as_default():\n",
    "    # Train input\n",
    "    tf_X = tf.placeholder(tf.float32, \n",
    "                                shape=(None,\n",
    "                                       IMAGE_HEIGHT, IMAGE_WIDTH,\n",
    "                                       CHANNELS))\n",
    "    tf_y = tf.placeholder(tf.int32, shape=(None,))\n",
    "    \n",
    "    tf_keep_prob = tf.placeholder(tf.float32)\n",
    "    \n",
    "    logits = make_model(tf_X, tf_keep_prob)\n",
    "    loss = make_loss(logits, tf_y)\n",
    "    optimizer = optimize(loss)\n",
    "    \n",
    "    prediction = tf.argmax(logits, 1)\n",
    "    correct_prediction = tf.equal(prediction, tf.cast(tf_y, tf.int64))\n",
    "    accuracy_op = tf.reduce_mean(tf.cast(correct_prediction, tf.float32))\n",
    "\n",
    "    param_saver = tf.train.Saver(max_to_keep=CHECK_POINTS_TO_KEEP)"
   ]
  },
  {
   "cell_type": "markdown",
   "metadata": {},
   "source": [
    "### Question 3\n",
    "\n",
    "_What does your final architecture look like? (Type of model, layers, sizes, connectivity, etc.)  For reference on how to build a deep neural network using TensorFlow, see [Deep Neural Network in TensorFlow\n",
    "](https://classroom.udacity.com/nanodegrees/nd013/parts/fbf77062-5703-404e-b60c-95b78b2f3f9e/modules/6df7ae49-c61c-4bb2-a23e-6527e69209ec/lessons/b516a270-8600-4f93-a0a3-20dfeabe5da6/concepts/83a3a2a2-a9bd-4b7b-95b0-eb924ab14432) from the classroom._\n"
   ]
  },
  {
   "cell_type": "markdown",
   "metadata": {},
   "source": [
    "**Answer:**"
   ]
  },
  {
   "cell_type": "code",
   "execution_count": null,
   "metadata": {
    "collapsed": true
   },
   "outputs": [],
   "source": [
    "### Train your model here.\n",
    "### Feel free to use as many code cells as needed.\n",
    "\n",
    "def batches(X, y=None, batch_size=None, epochs=1, trim_excess=False, shuffle=False):\n",
    "    idx = np.arange(X.shape[0])\n",
    "    batch_size = batch_size if batch_size is not None else X.shape[0]\n",
    "    steps = X.shape[0] // batch_size\n",
    "    if not trim_excess and X.shape[0] % batch_size != 0:\n",
    "        steps += 1\n",
    "    \n",
    "    for i in range(epochs):\n",
    "        if shuffle: np.random.shuffle(idx)\n",
    "        for c in range(steps):\n",
    "            offset = c * batch_size\n",
    "            batch_idx = idx[offset:offset + batch_size]\n",
    "            \n",
    "            if y is None:\n",
    "                yield X[batch_idx]\n",
    "            else:\n",
    "                yield X[batch_idx], y[batch_idx]\n",
    "        \n",
    "def do_train(session, X, y, validation):\n",
    "    cp = tf.train.latest_checkpoint(CHECK_POINT_DIR)\n",
    "    if cp is None:\n",
    "        session.run(tf.global_variables_initializer())\n",
    "        print(\"Initialized variables.\")\n",
    "    else:\n",
    "        param_saver.restore(session, cp)\n",
    "        print(\"Restored varaibles from:\", cp)\n",
    "    \n",
    "    #################\n",
    "    # TODO: \n",
    "    progress_file = \"runs/train_progress.p\"\n",
    "    if os.path.isfile(progress_file):\n",
    "        with open(progress_file, mode='rb') as f:\n",
    "            losses, train_accuracies, val_accuracies = pickle.load(f)\n",
    "        start_step = len(losses)\n",
    "        val_acc = val_accuracies[-1]\n",
    "        print(\"Restored stats from:\", progress_file)\n",
    "    else:\n",
    "        losses, train_accuracies, val_accuracies = [], [], []\n",
    "        start_step = 0\n",
    "        print(\"Initialized empty stats.\")\n",
    "        \n",
    "    \n",
    "    batch = batches(X, y, TRAIN_BATCH_SIZE, EPOCHS, trim_excess=True, shuffle=True)\n",
    "    for i, (batch_X, batch_y) in enumerate(batch):\n",
    "        step = start_step + i\n",
    "        feed_dict = {tf_X: batch_X, tf_y: batch_y, tf_keep_prob: 0.5}\n",
    "        _, _loss, _acc = session.run([optimizer, loss, accuracy_op], feed_dict=feed_dict)\n",
    "        losses.append(_loss)\n",
    "        \n",
    "        if step % LOG_AT_EVERY == 0:\n",
    "            param_saver.save(session, CHECK_POINT_FILE, global_step=step)\n",
    "            train_accuracies.append(_acc)\n",
    "            val_acc = validation(session)\n",
    "            val_accuracies.append(val_acc)\n",
    "            \n",
    "            #########################\n",
    "            # TODO: Delete this block\n",
    "            _save_progress(losses, train_accuracies, val_accuracies)\n",
    "            #########################\n",
    "        \n",
    "        if step % (X.shape[0] // TRAIN_BATCH_SIZE) == 0:\n",
    "            print(\"[Step: {}] Train loss: {}, Train acc: {}, Validation acc: {}\"\n",
    "                  .format(step, _loss, _acc, val_acc))\n",
    "    \n",
    "    param_saver.save(session, CHECK_POINT_FILE, global_step=step)\n",
    "    _save_progress(losses, train_accuracies, val_accuracies) # TODO: Delete this\n",
    "    return losses, train_accuracies, val_accuracies\n",
    "\n",
    "# TODO: Delete this function\n",
    "def _save_progress(losses, train_accuracies, val_accuracies):\n",
    "    with open(\"runs/train_progress.p\", mode=\"wb\") as f:\n",
    "        pickle.dump((losses, train_accuracies, val_accuracies), f)\n",
    "    \n",
    "def validate(X, y):\n",
    "    def do_validation(session):\n",
    "        preds = []\n",
    "        batch = batches(X, y, VAL_BATCH_SIZE)\n",
    "        for batch_X, batch_y in batch:\n",
    "            feed_dict={tf_X: batch_X, tf_y: batch_y, tf_keep_prob: 1.0}\n",
    "            preds.extend(session.run(correct_prediction, feed_dict=feed_dict))\n",
    "        return np.mean(preds)\n",
    "    return do_validation "
   ]
  },
  {
   "cell_type": "code",
   "execution_count": null,
   "metadata": {
    "collapsed": false,
    "scrolled": false
   },
   "outputs": [],
   "source": [
    "# NOTE: Running this cell will take a while\n",
    "\n",
    "def train():\n",
    "    with tf.Session(graph=graph) as sess:\n",
    "        validation = validate(X_val, y_val)\n",
    "        loss, train_acc, valid_acc = do_train(sess, X_train, y_train, validation)\n",
    "    return loss, train_acc, valid_acc\n",
    "\n",
    "train_losses, train_accuracies, validation_accuracies = train()"
   ]
  },
  {
   "cell_type": "code",
   "execution_count": null,
   "metadata": {
    "collapsed": false
   },
   "outputs": [],
   "source": [
    "def plot_train_loss(loss):\n",
    "    loss = pd.Series(loss)\n",
    "    loss.index.name = \"Iteration\"\n",
    "    ag = loss.plot(figsize=(15, 5), title=\"Training Loss\")\n",
    "    ag.set_ylabel(\"Loss\")\n",
    "    plt.show()\n",
    "\n",
    "plot_train_loss(train_losses)\n",
    "\n",
    "def plot_accuracies(accuracies):\n",
    "    df = pd.DataFrame(accuracies)\n",
    "    df['Iteration'] = ([i * LOG_AT_EVERY for i in df.index])\n",
    "    df.set_index('Iteration', inplace=True)\n",
    "    ag = df.plot(figsize=(15, 5), title=\"Accuracies\")\n",
    "    ag.set_ylabel(\"Accuracy\")\n",
    "    plt.show()\n",
    "    \n",
    "plot_accuracies({\"Training\": train_accuracies,\n",
    "                 \"Validation\": validation_accuracies})"
   ]
  },
  {
   "cell_type": "code",
   "execution_count": null,
   "metadata": {
    "collapsed": false
   },
   "outputs": [],
   "source": [
    "def predict(X, batch_size=None):\n",
    "    with tf.Session(graph=graph) as session:\n",
    "        param_saver.restore(session, tf.train.latest_checkpoint(CHECK_POINT_DIR))\n",
    "        \n",
    "        preds = []\n",
    "        batch = batches(X, batch_size=batch_size)\n",
    "        for batch_X in batch:\n",
    "            feed_dict={tf_X: batch_X, tf_keep_prob: 1.0}\n",
    "            preds.extend(session.run(prediction, feed_dict=feed_dict))\n",
    "    return np.asarray(preds)"
   ]
  },
  {
   "cell_type": "code",
   "execution_count": null,
   "metadata": {
    "collapsed": false
   },
   "outputs": [],
   "source": [
    "def predict_on_test_dataset():\n",
    "    predictions = predict(X_test, batch_size=TEST_BATCH_SIZE)\n",
    "    accuracy = np.mean(predictions == y_test)\n",
    "    print(\"Test dataset accuracy:\", accuracy)\n",
    "predict_on_test_dataset()"
   ]
  },
  {
   "cell_type": "markdown",
   "metadata": {},
   "source": [
    "### Question 4\n",
    "\n",
    "_How did you train your model? (Type of optimizer, batch size, epochs, hyperparameters, etc.)_\n"
   ]
  },
  {
   "cell_type": "markdown",
   "metadata": {},
   "source": [
    "**Answer:**"
   ]
  },
  {
   "cell_type": "markdown",
   "metadata": {},
   "source": [
    "### Question 5\n",
    "\n",
    "\n",
    "_What approach did you take in coming up with a solution to this problem? It may have been a process of trial and error, in which case, outline the steps you took to get to the final solution and why you chose those steps. Perhaps your solution involved an already well known implementation or architecture. In this case, discuss why you think this is suitable for the current problem._"
   ]
  },
  {
   "cell_type": "markdown",
   "metadata": {},
   "source": [
    "**Answer:**"
   ]
  },
  {
   "cell_type": "markdown",
   "metadata": {},
   "source": [
    "---\n",
    "\n",
    "## Step 3: Test a Model on New Images\n",
    "\n",
    "Take several pictures of traffic signs that you find on the web or around you (at least five), and run them through your classifier on your computer to produce example results. The classifier might not recognize some local signs but it could prove interesting nonetheless.\n",
    "\n",
    "You may find `signnames.csv` useful as it contains mappings from the class id (integer) to the actual sign name."
   ]
  },
  {
   "cell_type": "markdown",
   "metadata": {},
   "source": [
    "### Implementation\n",
    "\n",
    "Use the code cell (or multiple code cells, if necessary) to implement the first step of your project. Once you have completed your implementation and are satisfied with the results, be sure to thoroughly answer the questions that follow."
   ]
  },
  {
   "cell_type": "code",
   "execution_count": null,
   "metadata": {
    "collapsed": true
   },
   "outputs": [],
   "source": [
    "### Load the images and plot them here.\n",
    "### Feel free to use as many code cells as needed."
   ]
  },
  {
   "cell_type": "markdown",
   "metadata": {},
   "source": [
    "### Question 6\n",
    "\n",
    "_Choose five candidate images of traffic signs and provide them in the report. Are there any particular qualities of the image(s) that might make classification difficult? It could be helpful to plot the images in the notebook._\n",
    "\n"
   ]
  },
  {
   "cell_type": "markdown",
   "metadata": {},
   "source": [
    "**Answer:**"
   ]
  },
  {
   "cell_type": "code",
   "execution_count": null,
   "metadata": {
    "collapsed": true
   },
   "outputs": [],
   "source": [
    "### Run the predictions here.\n",
    "### Feel free to use as many code cells as needed."
   ]
  },
  {
   "cell_type": "markdown",
   "metadata": {},
   "source": [
    "### Question 7\n",
    "\n",
    "_Is your model able to perform equally well on captured pictures when compared to testing on the dataset? The simplest way to do this check the accuracy of the predictions. For example, if the model predicted 1 out of 5 signs correctly, it's 20% accurate._\n",
    "\n",
    "_**NOTE:** You could check the accuracy manually by using `signnames.csv` (same directory). This file has a mapping from the class id (0-42) to the corresponding sign name. So, you could take the class id the model outputs, lookup the name in `signnames.csv` and see if it matches the sign from the image._\n"
   ]
  },
  {
   "cell_type": "markdown",
   "metadata": {},
   "source": [
    "**Answer:**"
   ]
  },
  {
   "cell_type": "code",
   "execution_count": null,
   "metadata": {
    "collapsed": true
   },
   "outputs": [],
   "source": [
    "### Visualize the softmax probabilities here.\n",
    "### Feel free to use as many code cells as needed."
   ]
  },
  {
   "cell_type": "markdown",
   "metadata": {},
   "source": [
    "### Question 8\n",
    "\n",
    "*Use the model's softmax probabilities to visualize the **certainty** of its predictions, [`tf.nn.top_k`](https://www.tensorflow.org/versions/r0.12/api_docs/python/nn.html#top_k) could prove helpful here. Which predictions is the model certain of? Uncertain? If the model was incorrect in its initial prediction, does the correct prediction appear in the top k? (k should be 5 at most)*\n",
    "\n",
    "`tf.nn.top_k` will return the values and indices (class ids) of the top k predictions. So if k=3, for each sign, it'll return the 3 largest probabilities (out of a possible 43) and the correspoding class ids.\n",
    "\n",
    "Take this numpy array as an example:\n",
    "\n",
    "```\n",
    "# (5, 6) array\n",
    "a = np.array([[ 0.24879643,  0.07032244,  0.12641572,  0.34763842,  0.07893497,\n",
    "         0.12789202],\n",
    "       [ 0.28086119,  0.27569815,  0.08594638,  0.0178669 ,  0.18063401,\n",
    "         0.15899337],\n",
    "       [ 0.26076848,  0.23664738,  0.08020603,  0.07001922,  0.1134371 ,\n",
    "         0.23892179],\n",
    "       [ 0.11943333,  0.29198961,  0.02605103,  0.26234032,  0.1351348 ,\n",
    "         0.16505091],\n",
    "       [ 0.09561176,  0.34396535,  0.0643941 ,  0.16240774,  0.24206137,\n",
    "         0.09155967]])\n",
    "```\n",
    "\n",
    "Running it through `sess.run(tf.nn.top_k(tf.constant(a), k=3))` produces:\n",
    "\n",
    "```\n",
    "TopKV2(values=array([[ 0.34763842,  0.24879643,  0.12789202],\n",
    "       [ 0.28086119,  0.27569815,  0.18063401],\n",
    "       [ 0.26076848,  0.23892179,  0.23664738],\n",
    "       [ 0.29198961,  0.26234032,  0.16505091],\n",
    "       [ 0.34396535,  0.24206137,  0.16240774]]), indices=array([[3, 0, 5],\n",
    "       [0, 1, 4],\n",
    "       [0, 5, 1],\n",
    "       [1, 3, 5],\n",
    "       [1, 4, 3]], dtype=int32))\n",
    "```\n",
    "\n",
    "Looking just at the first row we get `[ 0.34763842,  0.24879643,  0.12789202]`, you can confirm these are the 3 largest probabilities in `a`. You'll also notice `[3, 0, 5]` are the corresponding indices."
   ]
  },
  {
   "cell_type": "markdown",
   "metadata": {},
   "source": [
    "**Answer:**"
   ]
  },
  {
   "cell_type": "markdown",
   "metadata": {},
   "source": [
    "> **Note**: Once you have completed all of the code implementations and successfully answered each question above, you may finalize your work by exporting the iPython Notebook as an HTML document. You can do this by using the menu above and navigating to  \\n\",\n",
    "    \"**File -> Download as -> HTML (.html)**. Include the finished document along with this notebook as your submission."
   ]
  },
  {
   "cell_type": "code",
   "execution_count": null,
   "metadata": {
    "collapsed": true
   },
   "outputs": [],
   "source": []
  }
 ],
 "metadata": {
  "anaconda-cloud": {},
  "kernelspec": {
   "display_name": "Python [conda env:carnd]",
   "language": "python",
   "name": "conda-env-carnd-py"
  },
  "language_info": {
   "codemirror_mode": {
    "name": "ipython",
    "version": 3
   },
   "file_extension": ".py",
   "mimetype": "text/x-python",
   "name": "python",
   "nbconvert_exporter": "python",
   "pygments_lexer": "ipython3",
   "version": "3.5.2"
  }
 },
 "nbformat": 4,
 "nbformat_minor": 1
}
